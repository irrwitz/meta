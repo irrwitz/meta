{
 "cells": [
  {
   "cell_type": "code",
   "execution_count": null,
   "metadata": {
    "collapsed": true
   },
   "outputs": [],
   "source": [
    "import calendar\n",
    "import numpy as np\n",
    "import pandas as pd\n",
    "import matplotlib.dates as mdates\n",
    "import matplotlib.pyplot as plt\n",
    "import matplotlib.ticker as ticker\n",
    "%matplotlib inline\n",
    "import seaborn as sns\n",
    "sns.set_style('whitegrid')"
   ]
  },
  {
   "cell_type": "code",
   "execution_count": null,
   "metadata": {
    "collapsed": true
   },
   "outputs": [],
   "source": [
    "def _load_data_file(file):\n",
    "    df = pd.read_json(file)\n",
    "    df['StudyDate_as_date'] = df['StudyDate'].apply(lambda x: pd.to_datetime(str(x), format='%Y%m%d'))\n",
    "    return df"
   ]
  },
  {
   "cell_type": "code",
   "execution_count": null,
   "metadata": {
    "collapsed": true
   },
   "outputs": [],
   "source": [
    "def _group(df):\n",
    "    g = df.groupby(['StudyDate_as_date', 'Modality']).size()\n",
    "    u = g.unstack(level=1)\n",
    "    return u"
   ]
  },
  {
   "cell_type": "code",
   "execution_count": null,
   "metadata": {
    "collapsed": false
   },
   "outputs": [],
   "source": [
    "def show(file, modalities):\n",
    "    \"\"\"\n",
    "    Args:\n",
    "        file: json file to load\n",
    "        modalities: array of modalities to show\n",
    "    Returns:\n",
    "        A bar plot showing the amount of examinations per day per month\n",
    "    \"\"\"\n",
    "    df = _load_data_file(file)\n",
    "    u = _group(df)\n",
    "    cur_month = u.iloc[0].name\n",
    "    month = cur_month.strftime(\"%B\")\n",
    "    date_format = mdates.DateFormatter('%d\\n%a')\n",
    "    fig, ax = plt.subplots(len(modalities), 1)\n",
    "    fig.set_figwidth(20)\n",
    "    fig.set_figheight(30)\n",
    "    fig.subplots_adjust(hspace=.2)\n",
    "\n",
    "    for i, (name, values) in enumerate(u[modalities].iteritems()):\n",
    "        ax[i].xaxis.set_major_formatter(date_format)\n",
    "        ax[i].xaxis_date()\n",
    "        ax[i].xaxis.set_major_locator(mdates.DayLocator())\n",
    "        ax[i].bar(values.index, np.array(values.values), align='center')\n",
    "        ax[i].set_title(month + ' - ' + name)\n",
    "        ax[i].spines['top'].set_visible(False)\n",
    "        ax[i].spines['right'].set_visible(False)\n",
    "        ax[i].xaxis.set_ticks_position('bottom')\n",
    "        ax[i].yaxis.set_ticks_position('left')"
   ]
  },
  {
   "cell_type": "code",
   "execution_count": null,
   "metadata": {
    "collapsed": false
   },
   "outputs": [],
   "source": [
    "FILE = '../import/data/2017/data-2017-01.json'\n",
    "show(FILE, ['CT', 'MR', 'RF'])"
   ]
  }
 ],
 "metadata": {
  "kernelspec": {
   "display_name": "Python 3",
   "language": "python",
   "name": "python3"
  },
  "language_info": {
   "codemirror_mode": {
    "name": "ipython",
    "version": 3
   },
   "file_extension": ".py",
   "mimetype": "text/x-python",
   "name": "python",
   "nbconvert_exporter": "python",
   "pygments_lexer": "ipython3",
   "version": "3.5.2"
  }
 },
 "nbformat": 4,
 "nbformat_minor": 2
}
