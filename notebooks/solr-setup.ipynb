{
 "cells": [
  {
   "cell_type": "markdown",
   "metadata": {},
   "source": [
    "# Solr setup"
   ]
  },
  {
   "cell_type": "code",
   "execution_count": null,
   "metadata": {
    "collapsed": true
   },
   "outputs": [],
   "source": [
    "import requests\n",
    "import glob"
   ]
  },
  {
   "cell_type": "code",
   "execution_count": null,
   "metadata": {
    "collapsed": true
   },
   "outputs": [],
   "source": [
    "# Main configuration options\n",
    "SOLR_URL = 'http://localhost:8983/solr/'\n",
    "CORE_NAME = 'grouping'\n",
    "\n",
    "SOLR_SCHEMA_UPDATE_URL = SOLR_URL + CORE_NAME + '/schema'\n",
    "SOLR_CORE_UPDATE_URL = SOLR_URL + CORE_NAME + '/update'\n",
    "SOLR_CORE_IMPORT_URL = SOLR_CORE_UPDATE_URL + '/csv?commit=true&separator=;'\n",
    "\n",
    "SCHEMA_FILE = '../import/schema/schema.json'"
   ]
  },
  {
   "cell_type": "markdown",
   "metadata": {},
   "source": [
    "## Clear core "
   ]
  },
  {
   "cell_type": "code",
   "execution_count": null,
   "metadata": {
    "collapsed": false
   },
   "outputs": [],
   "source": [
    "data = {'commit': 'true', 'stream.body': '<delete><query>*:*</query></delete>'}\n",
    "\n",
    "print('Commented for safety reason!')\n",
    "#r = requests.get(SOLR_CORE_UPDATE_URL, data)\n",
    "#print(r.status_code, r.text)"
   ]
  },
  {
   "cell_type": "markdown",
   "metadata": {},
   "source": [
    "## Import schema"
   ]
  },
  {
   "cell_type": "code",
   "execution_count": null,
   "metadata": {
    "collapsed": false
   },
   "outputs": [],
   "source": [
    "print('Updating schema, url is', SOLR_SCHEMA_UPDATE_URL)\n",
    "data = open(SCHEMA_FILE, 'rb').read()\n",
    "\n",
    "headers = {'Content-type': 'application/json'}\n",
    "r = requests.post(SOLR_SCHEMA_UPDATE_URL, headers=headers, data=data)\n",
    "print(r.status_code, r.text)"
   ]
  },
  {
   "cell_type": "markdown",
   "metadata": {},
   "source": [
    "## Import to Solr"
   ]
  },
  {
   "cell_type": "code",
   "execution_count": null,
   "metadata": {
    "collapsed": false
   },
   "outputs": [],
   "source": [
    "CSV_DATA = '../import/data/2015/*.csv'\n",
    "def post_file(file_name):\n",
    "    \"\"\" \n",
    "    Uploads passed file to solr. Only url and files can be passed. \n",
    "    If you pass in headers or data parameters, things will go wrong,\n",
    "    and You will have a hard time figuring out why.\n",
    "    \"\"\"\n",
    "    files = {'file': open(file_name, 'rb') }  \n",
    "    print('Uploading file', file_name)\n",
    "    r = requests.post(SOLR_CORE_IMPORT_URL, files=files)\n",
    "    print(file_name, r.status_code, r.text)\n",
    "\n",
    "for file_name in glob.glob(CSV_DATA):\n",
    "    post_file(file_name)"
   ]
  },
  {
   "cell_type": "markdown",
   "metadata": {},
   "source": [
    "## Delete a single document \n",
    "Deletes a single document from the index"
   ]
  },
  {
   "cell_type": "code",
   "execution_count": null,
   "metadata": {},
   "outputs": [],
   "source": [
    "data = {'commit': 'true', 'stream.body': '<delete><query>id:10122509-fb44-449d-b0c6-39110dfefb80</query></delete>'}\n",
    "\n",
    "r = requests.get(SOLR_CORE_UPDATE_URL, data)\n",
    "print(r.status_code, r.text)"
   ]
  }
 ],
 "metadata": {
  "anaconda-cloud": {},
  "kernelspec": {
   "display_name": "Python [Root]",
   "language": "python",
   "name": "Python [Root]"
  },
  "language_info": {
   "codemirror_mode": {
    "name": "ipython",
    "version": 3
   },
   "file_extension": ".py",
   "mimetype": "text/x-python",
   "name": "python",
   "nbconvert_exporter": "python",
   "pygments_lexer": "ipython3",
   "version": "3.5.2"
  }
 },
 "nbformat": 4,
 "nbformat_minor": 1
}
